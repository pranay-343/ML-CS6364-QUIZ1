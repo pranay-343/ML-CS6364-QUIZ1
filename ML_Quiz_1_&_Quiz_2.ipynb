{
  "nbformat": 4,
  "nbformat_minor": 0,
  "metadata": {
    "colab": {
      "name": "ML - Quiz 1 & Quiz 2",
      "provenance": [],
      "collapsed_sections": [],
      "authorship_tag": "ABX9TyMZZ1/ET3WXH4/esr88x7Ls",
      "include_colab_link": true
    },
    "kernelspec": {
      "name": "python3",
      "display_name": "Python 3"
    }
  },
  "cells": [
    {
      "cell_type": "markdown",
      "metadata": {
        "id": "view-in-github",
        "colab_type": "text"
      },
      "source": [
        "<a href=\"https://colab.research.google.com/github/pranay-343/ML-CS6364-QUIZ1/blob/master/ML_Quiz_1_%26_Quiz_2.ipynb\" target=\"_parent\"><img src=\"https://colab.research.google.com/assets/colab-badge.svg\" alt=\"Open In Colab\"/></a>"
      ]
    },
    {
      "cell_type": "markdown",
      "metadata": {
        "id": "XwJ8VyGck33P",
        "colab_type": "text"
      },
      "source": [
        "### Problem Statment \n",
        "## Quality control in a shoe factory  \n",
        "As shoes are prepared to be packaged and shipped, a quality check is conducted making sure that none of them are damaged. It is a binary classification problem with labels Damaged/Not Damaged.\n",
        "\n",
        "#Solution:\n",
        "According to me we should minimise the false positive values of our model. That is minimise the number of damaged shoes passed as not damanged. In other words Precision of the model should be 100% in order to achieve good quality check."
      ]
    },
    {
      "cell_type": "code",
      "metadata": {
        "id": "oQQzOmYMk5uk",
        "colab_type": "code",
        "colab": {}
      },
      "source": [
        "True_lables = [0, 0, 1, 0, 0, 1, 1, 0, 1, 0, 1, 0, 1, 0, 0, 1, 0, 1, 0, 1, 0, 1,\n",
        "       0, 0, 1, 0, 1, 0, 0, 0, 1, 0, 1, 1, 1, 1, 0, 1, 1, 0, 1, 1, 1, 1,\n",
        "       1, 0, 1, 1, 0, 0, 1, 0, 1, 0, 1, 0, 0, 1, 1, 0, 1, 0, 0, 0, 1, 1,\n",
        "       1, 0, 0, 0, 0, 0, 1, 1, 1, 1, 0, 1, 1, 1, 1, 1, 0, 0, 1, 1, 0, 1,\n",
        "       1, 0, 1, 1, 1, 0, 1, 1, 0, 1, 0, 0]\n"
      ],
      "execution_count": null,
      "outputs": []
    },
    {
      "cell_type": "code",
      "metadata": {
        "id": "zTJeYwXvlKkL",
        "colab_type": "code",
        "colab": {}
      },
      "source": [
        "Predicted_lables = [0, 1, 1, 1, 1, 1, 0, 1, 1, 1, 1, 1, 0, 1, 1, 0, 1, 1, 1, 0, 0, 0,\n",
        "       0, 1, 0, 1, 0, 0, 0, 1, 1, 1, 1, 0, 1, 0, 1, 1, 1, 1, 1, 1, 1, 0,\n",
        "       0, 1, 0, 1, 1, 1, 0, 1, 0, 1, 1, 1, 0, 0, 1, 0, 1, 0, 0, 0, 1, 0,\n",
        "       1, 0, 1, 0, 1, 1, 1, 1, 0, 1, 1, 0, 1, 1, 1, 1, 0, 0, 1, 0, 0, 1,\n",
        "       1, 1, 0, 0, 1, 1, 0, 1, 0, 1, 0, 1]"
      ],
      "execution_count": null,
      "outputs": []
    },
    {
      "cell_type": "markdown",
      "metadata": {
        "id": "TwmPi-TGUVle",
        "colab_type": "text"
      },
      "source": [
        "## Confusion Matrics"
      ]
    },
    {
      "cell_type": "code",
      "metadata": {
        "id": "eS-g4cBC8133",
        "colab_type": "code",
        "colab": {
          "base_uri": "https://localhost:8080/",
          "height": 51
        },
        "outputId": "eae7c9ad-6d03-43e9-d50d-f43a94c548d0"
      },
      "source": [
        "from sklearn.metrics import confusion_matrix\n",
        "sklearn.metrics.confusion_matrix(True_lables, Predicted_lables)"
      ],
      "execution_count": null,
      "outputs": [
        {
          "output_type": "execute_result",
          "data": {
            "text/plain": [
              "array([[17, 29],\n",
              "       [22, 32]])"
            ]
          },
          "metadata": {
            "tags": []
          },
          "execution_count": 11
        }
      ]
    },
    {
      "cell_type": "markdown",
      "metadata": {
        "id": "znFk1AsQU6Sv",
        "colab_type": "text"
      },
      "source": [
        "##Accuracy\n",
        "Accuracy = tp+tn/(tp+fp+fn+tn)"
      ]
    },
    {
      "cell_type": "code",
      "metadata": {
        "id": "gsP1Qxv09GIG",
        "colab_type": "code",
        "colab": {
          "base_uri": "https://localhost:8080/",
          "height": 34
        },
        "outputId": "897e157f-99e5-45e7-dc9e-01d670625db0"
      },
      "source": [
        "sklearn.metrics.accuracy_score(True_lables, Predicted_lables)"
      ],
      "execution_count": null,
      "outputs": [
        {
          "output_type": "execute_result",
          "data": {
            "text/plain": [
              "0.49"
            ]
          },
          "metadata": {
            "tags": []
          },
          "execution_count": 12
        }
      ]
    },
    {
      "cell_type": "markdown",
      "metadata": {
        "id": "lCdeo25eXLOr",
        "colab_type": "text"
      },
      "source": [
        "## Precision\n",
        "Precision = tp / (tp + fp)\n",
        "In my example it means that ~52% of the time the model detected the damaged shoe in the quality check which needs to be increased to 100% in order to provide good quality product to cusotmers."
      ]
    },
    {
      "cell_type": "code",
      "metadata": {
        "id": "QHNiLxdPXjZ4",
        "colab_type": "code",
        "colab": {
          "base_uri": "https://localhost:8080/",
          "height": 34
        },
        "outputId": "b920ad44-4d78-4e74-dbe9-b97d2e97630e"
      },
      "source": [
        "sklearn.metrics.precision_score(True_lables, Predicted_lables)"
      ],
      "execution_count": null,
      "outputs": [
        {
          "output_type": "execute_result",
          "data": {
            "text/plain": [
              "0.5245901639344263"
            ]
          },
          "metadata": {
            "tags": []
          },
          "execution_count": 13
        }
      ]
    },
    {
      "cell_type": "markdown",
      "metadata": {
        "id": "EJ7M6jHEXian",
        "colab_type": "text"
      },
      "source": [
        "## Recall or Sensitivity\n",
        "\n",
        "Recall = tp / (tp + fn)\n",
        "Recall is a measure that tells us what proportion of shoes that actually were damaged was diagnosed by the algorithm as damaged."
      ]
    },
    {
      "cell_type": "code",
      "metadata": {
        "id": "ADFLlVb4Xtxl",
        "colab_type": "code",
        "colab": {
          "base_uri": "https://localhost:8080/",
          "height": 34
        },
        "outputId": "70a891ac-525f-4cbb-ee21-9aafdedd4e9a"
      },
      "source": [
        "sklearn.metrics.recall_score(True_lables, Predicted_lables)"
      ],
      "execution_count": null,
      "outputs": [
        {
          "output_type": "execute_result",
          "data": {
            "text/plain": [
              "0.5925925925925926"
            ]
          },
          "metadata": {
            "tags": []
          },
          "execution_count": 19
        }
      ]
    },
    {
      "cell_type": "markdown",
      "metadata": {
        "id": "MiVdMSGIY_vd",
        "colab_type": "text"
      },
      "source": [
        "## F1 Score\n",
        "\n",
        "F1 = 2 * (precision * recall) / (precision + recall)"
      ]
    },
    {
      "cell_type": "code",
      "metadata": {
        "id": "uqb41tvXYOIV",
        "colab_type": "code",
        "colab": {
          "base_uri": "https://localhost:8080/",
          "height": 34
        },
        "outputId": "a8729e90-e86d-47cd-cfb9-b1062b3f8487"
      },
      "source": [
        "sklearn.metrics.f1_score(True_lables, Predicted_lables)"
      ],
      "execution_count": null,
      "outputs": [
        {
          "output_type": "execute_result",
          "data": {
            "text/plain": [
              "0.5565217391304348"
            ]
          },
          "metadata": {
            "tags": []
          },
          "execution_count": 18
        }
      ]
    },
    {
      "cell_type": "markdown",
      "metadata": {
        "id": "F8BB25uc2F_u",
        "colab_type": "text"
      },
      "source": [
        "### Quiz - 2\n",
        "\n",
        "Solution:\n",
        "K is the number of neigbours as K increases the complexity of KNN algorithm reduces. So if we make k=n then the model will be simple but it may lead to underfitting of model. Also, if k=1 it will result in complex model with zero training error but this leads to overfitting of model."
      ]
    }
  ]
}